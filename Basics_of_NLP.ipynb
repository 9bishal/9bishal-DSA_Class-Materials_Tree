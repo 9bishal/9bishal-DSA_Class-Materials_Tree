{
  "nbformat": 4,
  "nbformat_minor": 0,
  "metadata": {
    "colab": {
      "provenance": [],
      "include_colab_link": true
    },
    "kernelspec": {
      "name": "python3",
      "display_name": "Python 3"
    },
    "language_info": {
      "name": "python"
    }
  },
  "cells": [
    {
      "cell_type": "markdown",
      "metadata": {
        "id": "view-in-github",
        "colab_type": "text"
      },
      "source": [
        "<a href=\"https://colab.research.google.com/github/9bishal/9bishal-DSA_Class-Materials_Tree/blob/main/Basics_of_NLP.ipynb\" target=\"_parent\"><img src=\"https://colab.research.google.com/assets/colab-badge.svg\" alt=\"Open In Colab\"/></a>"
      ]
    },
    {
      "cell_type": "code",
      "execution_count": 1,
      "metadata": {
        "id": "kbT0CkktZL7N"
      },
      "outputs": [],
      "source": [
        "import tensorflow as tf"
      ]
    },
    {
      "cell_type": "code",
      "source": [],
      "metadata": {
        "id": "wZYOnRQ6Z7r0"
      },
      "execution_count": null,
      "outputs": []
    },
    {
      "cell_type": "code",
      "source": [
        "sentences=[\n",
        "    \"I love my cat\",\n",
        "    \"I love my Dog\"\n",
        "]\n",
        "vectorize_layer =tf.keras.layers.TextVectorization()\n",
        "vectorize_layer.adapt(sentences)\n",
        "vocabulary = vectorize_layer.get_vocabulary(include_special_tokens=False)\n",
        "print(vocabulary)"
      ],
      "metadata": {
        "id": "5PlGDK7DZiSv",
        "outputId": "3987ee6e-7558-4909-a728-902aef5feb1f",
        "colab": {
          "base_uri": "https://localhost:8080/"
        }
      },
      "execution_count": 3,
      "outputs": [
        {
          "output_type": "stream",
          "name": "stdout",
          "text": [
            "[np.str_('my'), np.str_('love'), np.str_('i'), np.str_('dog'), np.str_('cat')]\n"
          ]
        }
      ]
    },
    {
      "cell_type": "code",
      "source": [
        "sentences=[\n",
        "    \"I love my cat\",\n",
        "    \"I love my Dog\",\n",
        "    \"You love my Dog!\"\n",
        "]\n",
        "vectorize_layer =tf.keras.layers.TextVectorization()\n",
        "vectorize_layer.adapt(sentences)\n",
        "vocabulary = vectorize_layer.get_vocabulary(include_special_tokens=False)\n",
        "print(vocabulary)"
      ],
      "metadata": {
        "id": "f1XYQdWRaaSH",
        "outputId": "5a70f708-016b-4f05-c91f-6d742a4e8bf9",
        "colab": {
          "base_uri": "https://localhost:8080/"
        }
      },
      "execution_count": 6,
      "outputs": [
        {
          "output_type": "stream",
          "name": "stdout",
          "text": [
            "[np.str_('my'), np.str_('love'), np.str_('i'), np.str_('dog'), np.str_('you'), np.str_('cat')]\n"
          ]
        }
      ]
    },
    {
      "cell_type": "code",
      "source": [
        "sentences=[\n",
        "    \"I love my cat\",\n",
        "    \"I love my Dog\",\n",
        "    \"You love my Dog!\"\n",
        "]\n",
        "vectorize_layer =tf.keras.layers.TextVectorization()\n",
        "vectorize_layer.adapt(sentences)\n",
        "vocabulary = vectorize_layer.get_vocabulary()\n",
        "print(vocabulary)"
      ],
      "metadata": {
        "id": "e-LbLaEzawo1",
        "outputId": "8b831f52-f11c-46f1-ff6a-9f50ab9619fc",
        "colab": {
          "base_uri": "https://localhost:8080/"
        }
      },
      "execution_count": 7,
      "outputs": [
        {
          "output_type": "stream",
          "name": "stdout",
          "text": [
            "['', '[UNK]', np.str_('my'), np.str_('love'), np.str_('i'), np.str_('dog'), np.str_('you'), np.str_('cat')]\n"
          ]
        }
      ]
    },
    {
      "cell_type": "code",
      "source": [],
      "metadata": {
        "id": "Kohh2l90bEDU"
      },
      "execution_count": null,
      "outputs": []
    }
  ]
}